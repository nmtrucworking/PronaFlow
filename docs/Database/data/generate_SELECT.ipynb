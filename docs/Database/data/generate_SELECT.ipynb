{
 "cells": [
  {
   "cell_type": "code",
   "execution_count": 1,
   "id": "abec302a",
   "metadata": {},
   "outputs": [],
   "source": [
    "table_names = [\n",
    "    \"activities\",\n",
    "    \"attachments\",\n",
    "    \"comments\",\n",
    "    \"invitations\",\n",
    "    \"notification_recipients\",\n",
    "    \"notifications\",\n",
    "    \"password_resets\",\n",
    "    \"project_members\",\n",
    "    \"project_tags\",\n",
    "    \"projects\",\n",
    "    \"subtasks\",\n",
    "    \"tags\",\n",
    "    \"task_assignees\",\n",
    "    \"task_dependencies\",\n",
    "    \"task_lists\",\n",
    "    \"tasks\",\n",
    "    \"user_preferences\",\n",
    "    \"users\",\n",
    "    \"workspaces\"\n",
    "]"
   ]
  },
  {
   "cell_type": "code",
   "execution_count": 4,
   "id": "9a5b78b1",
   "metadata": {},
   "outputs": [
    {
     "name": "stdout",
     "output_type": "stream",
     "text": [
      "SELECT * FROM [activities];\n",
      "SELECT * FROM [attachments];\n",
      "SELECT * FROM [comments];\n",
      "SELECT * FROM [invitations];\n",
      "SELECT * FROM [notification_recipients];\n",
      "SELECT * FROM [notifications];\n",
      "SELECT * FROM [password_resets];\n",
      "SELECT * FROM [project_members];\n",
      "SELECT * FROM [project_tags];\n",
      "SELECT * FROM [projects];\n",
      "SELECT * FROM [subtasks];\n",
      "SELECT * FROM [tags];\n",
      "SELECT * FROM [task_assignees];\n",
      "SELECT * FROM [task_dependencies];\n",
      "SELECT * FROM [task_lists];\n",
      "SELECT * FROM [tasks];\n",
      "SELECT * FROM [user_preferences];\n",
      "SELECT * FROM [users];\n",
      "SELECT * FROM [workspaces];\n"
     ]
    }
   ],
   "source": [
    "for table in table_names:\n",
    "    print(f\"SELECT * FROM [{table}];\")"
   ]
  }
 ],
 "metadata": {
  "kernelspec": {
   "display_name": "Python 3",
   "language": "python",
   "name": "python3"
  },
  "language_info": {
   "codemirror_mode": {
    "name": "ipython",
    "version": 3
   },
   "file_extension": ".py",
   "mimetype": "text/x-python",
   "name": "python",
   "nbconvert_exporter": "python",
   "pygments_lexer": "ipython3",
   "version": "3.13.8"
  }
 },
 "nbformat": 4,
 "nbformat_minor": 5
}
