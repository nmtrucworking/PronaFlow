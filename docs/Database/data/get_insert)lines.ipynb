{
 "cells": [
  {
   "cell_type": "code",
   "execution_count": 27,
   "id": "0fa36083",
   "metadata": {},
   "outputs": [],
   "source": [
    "def get_insert_lines_from_sql(input_sql_file, output_insert_file, keyword):\n",
    "    insert_locations = []\n",
    "    try:\n",
    "        with open(input_sql_file, 'r', encoding='utf-8') as input_sql_file:\n",
    "            # Sử dụng enumerate(..., 1) để lấy cả số dòng (bắt đầu từ 1) và nội dung\n",
    "            for line_number, line in enumerate(input_sql_file, 1):\n",
    "                if line.lstrip().upper().startswith(keyword):\n",
    "                    # Thêm một cặp (số dòng, nội dung dòng) vào danh sách\n",
    "                    insert_locations.append((line_number, line))\n",
    "\n",
    "        # Ghi kết quả tìm được (bao gồm cả số dòng) vào file đích\n",
    "        with open(output_insert_file, 'w', encoding='utf-8') as file_dich:\n",
    "            if insert_locations:\n",
    "                file_dich.write(f\"Tìm thấy {len(insert_locations)} lệnh {keyword} trong file '{input_sql_file}':\\n\\n\")\n",
    "                for line_num, line_content in insert_locations:\n",
    "                    # Ghi cả số dòng và nội dung vào file\n",
    "                    file_dich.write(f\"Dòng {line_num}: {line_content}\")\n",
    "            else:\n",
    "                file_dich.write(\"Không tìm thấy dòng nào bắt đầu bằng {keyword}.\\n\")\n",
    "\n",
    "        # In thông báo ra màn hình\n",
    "        print(\"-\" * 30)\n",
    "        if insert_locations:\n",
    "            print(f\"Đã tìm thấy {len(insert_locations)} dòng {keyword}.\")\n",
    "            print(f\"Thông tin chi tiết đã được lưu vào file: '{output_insert_file}'\")\n",
    "            print(\"\\nChi tiết các dòng đã tìm thấy:\")\n",
    "            for line_num, line_content in insert_locations:\n",
    "                # Dùng .strip() để loại bỏ ký tự xuống dòng thừa khi in ra console cho đẹp\n",
    "                print(f\"  - Dòng {line_num}: {line_content.strip()}\")\n",
    "        else:\n",
    "            print(\"Không tìm thấy dòng nào bắt đầu bằng {keyword}.\")\n",
    "\n",
    "    except FileNotFoundError:\n",
    "        print(f\"Lỗi: Không tìm thấy file nguồn '{input_sql_file}'\")\n",
    "    except Exception as e:\n",
    "        print(f\"Đã xảy ra một lỗi không mong muốn: {e}\")"
   ]
  },
  {
   "cell_type": "code",
   "execution_count": 34,
   "id": "538af8ab",
   "metadata": {},
   "outputs": [],
   "source": [
    "input_sql_file = 'CreateDBForPronaFlow.sql'\n",
    "output_insert_file = 'insert_lines_of_PronaFlow_New_Sample_Data_EN.txt'\n",
    "output_uq_file = 'constrant_unique_lines.txt'"
   ]
  },
  {
   "cell_type": "code",
   "execution_count": 36,
   "id": "fb537bbb",
   "metadata": {},
   "outputs": [
    {
     "name": "stdout",
     "output_type": "stream",
     "text": [
      "------------------------------\n",
      "Không tìm thấy dòng nào bắt đầu bằng {keyword}.\n"
     ]
    }
   ],
   "source": [
    "get_insert_lines_from_sql(input_sql_file, output_uq_file, \"    CONSTRAINT [uq_task_lists_project_id_name]\")"
   ]
  }
 ],
 "metadata": {
  "kernelspec": {
   "display_name": "Python 3",
   "language": "python",
   "name": "python3"
  },
  "language_info": {
   "codemirror_mode": {
    "name": "ipython",
    "version": 3
   },
   "file_extension": ".py",
   "mimetype": "text/x-python",
   "name": "python",
   "nbconvert_exporter": "python",
   "pygments_lexer": "ipython3",
   "version": "3.13.8"
  }
 },
 "nbformat": 4,
 "nbformat_minor": 5
}
