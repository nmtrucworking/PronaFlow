{
 "cells": [
  {
   "cell_type": "code",
   "execution_count": null,
   "id": "1a7b72db",
   "metadata": {},
   "outputs": [
    {
     "ename": "",
     "evalue": "",
     "output_type": "error",
     "traceback": [
      "\u001b[1;31mRunning cells with 'Python 3.11.9' requires the ipykernel package.\n",
      "\u001b[1;31m<a href='command:jupyter.createPythonEnvAndSelectController'>Create a Python Environment</a> with the required packages.\n",
      "\u001b[1;31mOr install 'ipykernel' using the command: 'c:/Users/win11/AppData/Local/Microsoft/WindowsApps/python3.11.exe -m pip install ipykernel -U --user --force-reinstall'"
     ]
    }
   ],
   "source": [
    "import re\n",
    "import csv\n",
    "import os"
   ]
  },
  {
   "cell_type": "code",
   "execution_count": null,
   "id": "b87ddd27",
   "metadata": {},
   "outputs": [],
   "source": [
    "def sql_to_csv(sql_file_path):\n",
    "    \"\"\"\n",
    "    Chuyển đổi dữ liệu từ tệp SQL có các câu lệnh INSERT INTO thành các tệp CSV riêng biệt cho mỗi bảng.\n",
    "\n",
    "    Args:\n",
    "        sql_file_path (str): Đường dẫn đến tệp .sql.\n",
    "    \"\"\"\n",
    "    try:\n",
    "        with open(sql_file_path, 'r', encoding='utf-8') as f:\n",
    "            sql_content = f.read()\n",
    "    except FileNotFoundError:\n",
    "        print(f\"Lỗi: Không tìm thấy tệp tin '{sql_file_path}'\")\n",
    "        return\n",
    "\n",
    "    # Biểu thức chính quy để tìm các câu lệnh INSERT INTO và trích xuất tên bảng, cột và giá trị\n",
    "    insert_pattern = re.compile(r\"INSERT INTO \\[dbo\\]\\.\\[(.*?)\\] \\((.*?)\\) VALUES\\s*([\\s\\S]*?)(?=GO|;)\", re.IGNORECASE)\n",
    "\n",
    "    matches = insert_pattern.finditer(sql_content)\n",
    "\n",
    "    tables_data = {}\n",
    "\n",
    "    for match in matches:\n",
    "        table_name, columns_str, values_str = match.groups()\n",
    "        columns = [col.strip().strip('[]') for col in columns_str.split(',')]\n",
    "\n",
    "        if table_name not in tables_data:\n",
    "            tables_data[table_name] = {'columns': columns, 'rows': []}\n",
    "\n",
    "        # Biểu thức chính quy để trích xuất các bộ giá trị từ mệnh đề VALUES\n",
    "        value_tuples = re.findall(r\"\\((.*?)\\)\", values_str)\n",
    "\n",
    "        for tup in value_tuples:\n",
    "            try:\n",
    "                # Sử dụng csv.reader để xử lý các giá trị có dấu nháy\n",
    "                reader = csv.reader([tup], quotechar=\"'\", escapechar=\"\\\\\")\n",
    "                values = next(reader)\n",
    "                # Làm sạch giá trị: loại bỏ khoảng trắng thừa và tiền tố N'\n",
    "                cleaned_values = [v.strip().lstrip(\"N'\").rstrip(\"'\") for v in values]\n",
    "                tables_data[table_name]['rows'].append(cleaned_values)\n",
    "            except Exception as e:\n",
    "                print(f\"Không thể phân tích cú pháp hàng: {tup} cho bảng {table_name}. Lỗi: {e}\")\n",
    "\n",
    "    # Tạo thư mục để lưu các tệp CSV\n",
    "    output_dir = 'csv_files'\n",
    "    if not os.path.exists(output_dir):\n",
    "        os.makedirs(output_dir)\n",
    "\n",
    "    # Ghi dữ liệu vào các tệp CSV\n",
    "    for table_name, data in tables_data.items():\n",
    "        file_path = os.path.join(output_dir, f\"{table_name}.csv\")\n",
    "        with open(file_path, 'w', newline='', encoding='utf-8') as f:\n",
    "            writer = csv.writer(f)\n",
    "            writer.writerow(data['columns'])\n",
    "            writer.writerows(data['rows'])\n",
    "        print(f\"Đã tạo tệp: {file_path}\")\n",
    "\n",
    "# Sử dụng hàm\n",
    "if __name__ == \"__main__\":\n",
    "    sql_file = \"PronaFlow_New_Sample_Data_EN_split_by_lines.sql\"\n",
    "    sql_to_csv(sql_file)"
   ]
  }
 ],
 "metadata": {
  "kernelspec": {
   "display_name": "Python 3",
   "language": "python",
   "name": "python3"
  },
  "language_info": {
   "name": "python",
   "version": "3.11.9"
  }
 },
 "nbformat": 4,
 "nbformat_minor": 5
}
